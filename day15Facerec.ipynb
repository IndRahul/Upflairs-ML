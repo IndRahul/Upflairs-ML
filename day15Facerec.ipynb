{
 "cells": [
  {
   "cell_type": "code",
   "execution_count": 1,
   "metadata": {},
   "outputs": [],
   "source": [
    "import cv2"
   ]
  },
  {
   "cell_type": "code",
   "execution_count": null,
   "metadata": {},
   "outputs": [],
   "source": [
    "vid = cv2.VideoCapture(0)\n",
    "\n",
    "fd = cv2.CascadeClassifier(\n",
    "     cv2.data.haarcascades+\n",
    "     'haarcascade_frontalface_default.xml')\n",
    "\n",
    "frameCount = 0\n",
    "name = input(\"Enter your name : \")\n",
    "\n",
    "while True:\n",
    "    flag , img = vid.read()\n",
    "    if flag is True:\n",
    "        faces = fd.detectMultiScale(cv2.cvtColor(img,cv2.COLOR_BGR2GRAY),\n",
    "                                    1.1,\n",
    "                                    5)\n",
    "        if len(faces) == 1:\n",
    "            frameCount += 1\n",
    "            cv2.imwrite(f'{name}_{frameCount}.png',img)\n",
    "            \n",
    "        if frameCount == 20:\n",
    "            frameCount = 0\n",
    "            \n",
    "          \n",
    "        \n",
    "        "
   ]
  }
 ],
 "metadata": {
  "kernelspec": {
   "display_name": "Python 3",
   "language": "python",
   "name": "python3"
  },
  "language_info": {
   "codemirror_mode": {
    "name": "ipython",
    "version": 3
   },
   "file_extension": ".py",
   "mimetype": "text/x-python",
   "name": "python",
   "nbconvert_exporter": "python",
   "pygments_lexer": "ipython3",
   "version": "3.10.11"
  },
  "orig_nbformat": 4
 },
 "nbformat": 4,
 "nbformat_minor": 2
}
