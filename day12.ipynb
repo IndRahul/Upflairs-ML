{
 "cells": [
  {
   "cell_type": "code",
   "execution_count": 1,
   "id": "4dc2649a",
   "metadata": {},
   "outputs": [],
   "source": [
    "import cv2 \n",
    "import matplotlib.pyplot as plt"
   ]
  },
  {
   "cell_type": "code",
   "execution_count": 12,
   "id": "640c8dd9",
   "metadata": {},
   "outputs": [
    {
     "name": "stdout",
     "output_type": "stream",
     "text": [
      "Smile detected\n",
      "Smile detected\n",
      "Smile detected\n",
      "Smile detected\n",
      "Smile detected\n",
      "Smile detected\n",
      "Smile detected\n",
      "Smile detected\n",
      "Smile detected\n",
      "Smile detected\n",
      "Smile detected\n",
      "Smile detected\n",
      "Smile detected\n",
      "Smile detected\n",
      "Smile detected\n",
      "Smile detected\n"
     ]
    }
   ],
   "source": [
    "vid = cv2.VideoCapture(0)\n",
    "\n",
    "fd = cv2.CascadeClassifier(\n",
    "     cv2.data.haarcascades+\n",
    "     'haarcascade_frontalface_default.xml')\n",
    "\n",
    "sd = cv2.CascadeClassifier(\n",
    "    cv2.data.haarcascades+\n",
    "     'haarcascade_smile.xml')\n",
    "while True:\n",
    "    flag , img = vid.read()\n",
    "    if flag is True:\n",
    "        img_gray=cv2.cvtColor(img,cv2.COLOR_BGR2GRAY)\n",
    "        \n",
    "#         x1,y1,w,h = (800,400,700,200)\n",
    "        faces = fd.detectMultiScale(img_gray, 1.1, 5)\n",
    "        for x1,y1,w,h in faces:\n",
    "            img_crop = img[y1:y1+h,x1:x1+w,:].copy()\n",
    "            smiles = sd.detectMultiScale(img_crop,1.1,5)\n",
    "            if len(smiles) == 1:\n",
    "#                 print(\"Smile detected\")\n",
    "                xs,ys,ws,hs = smiles[0]\n",
    "                cv2.rectangle(\n",
    "                img,pt1 = (xs,ys), pt2 = (x1+xs+ws,y1+ys+hs),\n",
    "                         color = (0,255,0)\n",
    "                         )\n",
    "                \n",
    "            cv2.rectangle(\n",
    "                img,pt1 = (x1,y1), pt2 = (x1+w,y1+h),\n",
    "                         color = (255,0,0),thickness = 10\n",
    "                         )\n",
    "            \n",
    "        cv2.imshow('Live',img[:,::-1])\n",
    "        key = cv2.waitKey(1)\n",
    "        if key == ord('a'):\n",
    "            break\n",
    "    else:\n",
    "        print(\"Not Running\")\n",
    "        break\n",
    "vid.release()\n",
    "cv2.destroyAllWindows()"
   ]
  },
  {
   "cell_type": "code",
   "execution_count": 9,
   "id": "39c5da1d",
   "metadata": {},
   "outputs": [
    {
     "name": "stdout",
     "output_type": "stream",
     "text": [
      "1\n",
      "2\n",
      "1\n",
      "1\n",
      "2\n",
      "3\n",
      "1\n",
      "2\n",
      "1\n",
      "1\n",
      "1\n",
      "1\n",
      "2\n",
      "3\n",
      "4\n",
      "5\n"
     ]
    }
   ],
   "source": [
    "vid = cv2.VideoCapture(0)\n",
    "captured = False\n",
    "seq = 0\n",
    "\n",
    "fd = cv2.CascadeClassifier(\n",
    "     cv2.data.haarcascades+\n",
    "     'haarcascade_frontalface_default.xml')\n",
    "\n",
    "sd = cv2.CascadeClassifier(\n",
    "    cv2.data.haarcascades+\n",
    "     'haarcascade_smile.xml')\n",
    "while not captured:\n",
    "    flag , img = vid.read()\n",
    "    if flag is True:\n",
    "        img_gray=cv2.cvtColor(img,cv2.COLOR_BGR2GRAY)\n",
    "        \n",
    "        faces = fd.detectMultiScale(img_gray, 1.1, 5)\n",
    "        for x1,y1,w,h in faces:\n",
    "            img_crop = img[y1:y1+h,x1:x1+w,:].copy()\n",
    "            smiles = sd.detectMultiScale(img_crop,1.1,5)\n",
    "            if len(smiles) == 1:\n",
    "                seq += 1\n",
    "#                 print(seq)\n",
    "                if seq == 5:\n",
    "                    captured = cv2.imwrite('pic.png',img_crop)\n",
    "                    break\n",
    "                xs,ys,ws,hs = smiles[0]\n",
    "                cv2.rectangle(\n",
    "                img,pt1 = (xs,ys), pt2 = (x1+xs+ws,y1+ys+hs),\n",
    "                         color = (0,255,0)\n",
    "                         )\n",
    "            \n",
    "            else:\n",
    "                seq = 0\n",
    "            cv2.rectangle(\n",
    "                img,pt1 = (x1,y1), pt2 = (x1+w,y1+h),\n",
    "                         color = (255,0,0),thickness = 10\n",
    "                         )\n",
    "                \n",
    "            \n",
    "        cv2.imshow('Live',img[:,::-1])\n",
    "        key = cv2.waitKey(1)\n",
    "        if key == ord('a'):\n",
    "            break\n",
    "    else:\n",
    "        print(\"Not Running\")\n",
    "        break\n",
    "vid.release()\n",
    "cv2.destroyAllWindows()"
   ]
  },
  {
   "cell_type": "code",
   "execution_count": null,
   "id": "502becee",
   "metadata": {},
   "outputs": [],
   "source": []
  }
 ],
 "metadata": {
  "kernelspec": {
   "display_name": "Python 3 (ipykernel)",
   "language": "python",
   "name": "python3"
  },
  "language_info": {
   "codemirror_mode": {
    "name": "ipython",
    "version": 3
   },
   "file_extension": ".py",
   "mimetype": "text/x-python",
   "name": "python",
   "nbconvert_exporter": "python",
   "pygments_lexer": "ipython3",
   "version": "3.9.13"
  }
 },
 "nbformat": 4,
 "nbformat_minor": 5
}
