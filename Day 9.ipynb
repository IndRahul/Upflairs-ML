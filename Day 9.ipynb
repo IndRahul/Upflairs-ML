{
 "cells": [
  {
   "cell_type": "markdown",
   "id": "1c59ca31",
   "metadata": {},
   "source": [
    "### \n",
    "    opencv-python\n",
    "    scikit-imgage\n",
    "    matplotlib"
   ]
  },
  {
   "cell_type": "markdown",
   "id": "ccbf2566",
   "metadata": {},
   "source": [
    "## difference btw range() and arange()\n",
    "    range will return list whereas arange will return array\n",
    "    "
   ]
  },
  {
   "cell_type": "code",
   "execution_count": 2,
   "id": "18546637",
   "metadata": {},
   "outputs": [],
   "source": [
    "import numpy as np"
   ]
  },
  {
   "cell_type": "code",
   "execution_count": 3,
   "id": "ccf3cbd2",
   "metadata": {},
   "outputs": [
    {
     "data": {
      "text/plain": [
       "6"
      ]
     },
     "execution_count": 3,
     "metadata": {},
     "output_type": "execute_result"
    }
   ],
   "source": [
    "np.random.randint(1,10)"
   ]
  },
  {
   "cell_type": "code",
   "execution_count": 4,
   "id": "55488556",
   "metadata": {},
   "outputs": [
    {
     "data": {
      "text/plain": [
       "array([4, 7, 5])"
      ]
     },
     "execution_count": 4,
     "metadata": {},
     "output_type": "execute_result"
    }
   ],
   "source": [
    "np.random.randint(1,10,3)"
   ]
  },
  {
   "cell_type": "code",
   "execution_count": 13,
   "id": "2018be1e",
   "metadata": {},
   "outputs": [
    {
     "data": {
      "text/plain": [
       "array([[19,  2,  3,  1],\n",
       "       [17, 12,  4,  5],\n",
       "       [21,  8, 14, 21]])"
      ]
     },
     "execution_count": 13,
     "metadata": {},
     "output_type": "execute_result"
    }
   ],
   "source": [
    "np.random.seed(188)\n",
    "np.random.randint(1,23,[3,4])"
   ]
  },
  {
   "cell_type": "code",
   "execution_count": 22,
   "id": "1792b888",
   "metadata": {},
   "outputs": [
    {
     "data": {
      "text/plain": [
       "array([[0.92806144, 0.15622622, 0.66625766, 0.48554817],\n",
       "       [0.71434743, 0.08016041, 0.21903236, 0.04558478]])"
      ]
     },
     "execution_count": 22,
     "metadata": {},
     "output_type": "execute_result"
    }
   ],
   "source": [
    "np.random.rand(2,4)   # ---> generate floating point btw 0.1 to 1.0"
   ]
  },
  {
   "cell_type": "code",
   "execution_count": 24,
   "id": "457014cc",
   "metadata": {},
   "outputs": [
    {
     "data": {
      "text/plain": [
       "array([-1.50004493,  1.30111221])"
      ]
     },
     "execution_count": 24,
     "metadata": {},
     "output_type": "execute_result"
    }
   ],
   "source": [
    "np.random.randn(2)   #negative"
   ]
  },
  {
   "cell_type": "code",
   "execution_count": 27,
   "id": "25d94cfd",
   "metadata": {},
   "outputs": [
    {
     "data": {
      "text/plain": [
       "array([['hi', 'my', 'name', 'is', 'rahul'],\n",
       "       ['this', 'is', 'my', 'first', 'class']], dtype='<U5')"
      ]
     },
     "execution_count": 27,
     "metadata": {},
     "output_type": "execute_result"
    }
   ],
   "source": [
    "np.loadtxt('data.txt',dtype='str')"
   ]
  },
  {
   "cell_type": "code",
   "execution_count": 28,
   "id": "3bf9d7b7",
   "metadata": {},
   "outputs": [
    {
     "data": {
      "text/plain": [
       "array([[ 56, 210, 185,   2,  38],\n",
       "       [228, 220,  93, 179, 265],\n",
       "       [ 65, 136, 280, 164, 247]])"
      ]
     },
     "execution_count": 28,
     "metadata": {},
     "output_type": "execute_result"
    }
   ],
   "source": [
    "a = np.random.randint(1,300,[3,5])\n",
    "a"
   ]
  },
  {
   "cell_type": "code",
   "execution_count": 32,
   "id": "73596bae",
   "metadata": {},
   "outputs": [],
   "source": [
    "np.savetxt('data2.txt',a,delimiter='|',fmt = '%d')"
   ]
  },
  {
   "cell_type": "code",
   "execution_count": 34,
   "id": "fd8b275d",
   "metadata": {},
   "outputs": [
    {
     "data": {
      "text/plain": [
       "array([491, 985, 892])"
      ]
     },
     "execution_count": 34,
     "metadata": {},
     "output_type": "execute_result"
    }
   ],
   "source": [
    "a.sum(axis = 1) # rows\n"
   ]
  },
  {
   "cell_type": "code",
   "execution_count": 35,
   "id": "99073882",
   "metadata": {},
   "outputs": [
    {
     "data": {
      "text/plain": [
       "157.86666666666667"
      ]
     },
     "execution_count": 35,
     "metadata": {},
     "output_type": "execute_result"
    }
   ],
   "source": [
    "a.mean()"
   ]
  },
  {
   "cell_type": "code",
   "execution_count": 38,
   "id": "e4c58332",
   "metadata": {},
   "outputs": [
    {
     "data": {
      "text/plain": [
       "array([1, 4, 2], dtype=int64)"
      ]
     },
     "execution_count": 38,
     "metadata": {},
     "output_type": "execute_result"
    }
   ],
   "source": [
    "a.argmax(axis = 1)"
   ]
  },
  {
   "cell_type": "code",
   "execution_count": 37,
   "id": "5d888874",
   "metadata": {},
   "outputs": [
    {
     "data": {
      "text/plain": [
       "array([[ 56, 210, 185,   2,  38],\n",
       "       [228, 220,  93, 179, 265],\n",
       "       [ 65, 136, 280, 164, 247]])"
      ]
     },
     "execution_count": 37,
     "metadata": {},
     "output_type": "execute_result"
    }
   ],
   "source": [
    "a"
   ]
  },
  {
   "cell_type": "code",
   "execution_count": 39,
   "id": "85fb6903",
   "metadata": {},
   "outputs": [
    {
     "data": {
      "text/plain": [
       "280"
      ]
     },
     "execution_count": 39,
     "metadata": {},
     "output_type": "execute_result"
    }
   ],
   "source": [
    "a.max()"
   ]
  },
  {
   "cell_type": "code",
   "execution_count": 40,
   "id": "63180efe",
   "metadata": {},
   "outputs": [
    {
     "data": {
      "text/plain": [
       "array([ 56, 210, 185,   2,  38, 228, 220,  93, 179, 265,  65, 136, 280,\n",
       "       164, 247])"
      ]
     },
     "execution_count": 40,
     "metadata": {},
     "output_type": "execute_result"
    }
   ],
   "source": [
    "a.flatten()"
   ]
  },
  {
   "cell_type": "code",
   "execution_count": null,
   "id": "1ffce81a",
   "metadata": {},
   "outputs": [],
   "source": []
  }
 ],
 "metadata": {
  "kernelspec": {
   "display_name": "Python 3 (ipykernel)",
   "language": "python",
   "name": "python3"
  },
  "language_info": {
   "codemirror_mode": {
    "name": "ipython",
    "version": 3
   },
   "file_extension": ".py",
   "mimetype": "text/x-python",
   "name": "python",
   "nbconvert_exporter": "python",
   "pygments_lexer": "ipython3",
   "version": "3.9.13"
  }
 },
 "nbformat": 4,
 "nbformat_minor": 5
}
