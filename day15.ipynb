{
 "cells": [
  {
   "cell_type": "code",
   "execution_count": 3,
   "metadata": {},
   "outputs": [],
   "source": [
    "import skimage\n"
   ]
  },
  {
   "cell_type": "code",
   "execution_count": 1,
   "metadata": {},
   "outputs": [],
   "source": [
    "import cmake"
   ]
  },
  {
   "cell_type": "code",
   "execution_count": 1,
   "metadata": {},
   "outputs": [],
   "source": [
    "import face_recognition"
   ]
  },
  {
   "cell_type": "code",
   "execution_count": 4,
   "metadata": {},
   "outputs": [],
   "source": [
    "import cv2,skimage"
   ]
  },
  {
   "cell_type": "code",
   "execution_count": 9,
   "metadata": {},
   "outputs": [
    {
     "ename": "KeyboardInterrupt",
     "evalue": "",
     "output_type": "error",
     "traceback": [
      "\u001b[1;31m---------------------------------------------------------------------------\u001b[0m",
      "\u001b[1;31mKeyboardInterrupt\u001b[0m                         Traceback (most recent call last)",
      "Cell \u001b[1;32mIn[9], line 3\u001b[0m\n\u001b[0;32m      1\u001b[0m vid \u001b[39m=\u001b[39m cv2\u001b[39m.\u001b[39mVideoCapture(\u001b[39m0\u001b[39m)\n\u001b[0;32m      2\u001b[0m \u001b[39mwhile\u001b[39;00m \u001b[39mTrue\u001b[39;00m:\n\u001b[1;32m----> 3\u001b[0m     flag,img \u001b[39m=\u001b[39m vid\u001b[39m.\u001b[39;49mread()\n\u001b[0;32m      4\u001b[0m     \u001b[39mif\u001b[39;00m flag:\n\u001b[0;32m      5\u001b[0m         gray_img \u001b[39m=\u001b[39m cv2\u001b[39m.\u001b[39mcvtColor(img,cv2\u001b[39m.\u001b[39mCOLOR_BGR2GRAY)\n",
      "\u001b[1;31mKeyboardInterrupt\u001b[0m: "
     ]
    }
   ],
   "source": [
    "vid = cv2.VideoCapture(0)\n",
    "while True:\n",
    "    flag,img = vid.read()\n",
    "    if flag:\n",
    "        gray_img = cv2.cvtColor(img,cv2.COLOR_BGR2GRAY)\n",
    "        blue_img = cv2.subtract(img[:,:,-3],gray_img)\n",
    "        th,blue_binary = cv2.threshold(blue_img,55,255,cv2.THRESH_BINARY)\n",
    "        blue_binary2 = skimage.morphology.remove_small_objects(\n",
    "                                        blue_binary.astype(bool),150)\n",
    "        strel = cv2.getStructuringElement(cv2.MORPH_ELLIPSE,(10,10))\n",
    "        blue_binary3 = cv2.dilate(blue_binary2.astype('uint8'),strel,iterations=1)\n",
    "        blue_binary4 = skimage.morphology.remove_small_holes(\n",
    "                                    blue_binary3.astype(bool),500\n",
    "                        )\n",
    "        labels = skimage.measure.label(blue_binary4)\n",
    "        rp = skimage.measure.regionprops(labels,blue_binary4)\n",
    "        img_orig = img.copy()\n",
    "        if len(rp) > 0:\n",
    "            (y1,x1,y2,x2) = rp[0].bbox\n",
    "            cv2.rectangle(\n",
    "                img_orig,\n",
    "                pt1 = (x1,y1),pt2 = (x2,y2),\n",
    "                color = (255,255,0),\n",
    "                thickness=10\n",
    "            )\n",
    "        cv2.imshow('Preview',img_orig)\n",
    "        key = cv2.waitKey(1)\n",
    "        if key == ord('a'):\n",
    "            break\n",
    "           \n",
    "        vid.release() \n",
    "        cv2.destroyAllWindows()\n",
    "        "
   ]
  },
  {
   "cell_type": "code",
   "execution_count": null,
   "metadata": {},
   "outputs": [],
   "source": []
  }
 ],
 "metadata": {
  "kernelspec": {
   "display_name": "base",
   "language": "python",
   "name": "python3"
  },
  "language_info": {
   "codemirror_mode": {
    "name": "ipython",
    "version": 3
   },
   "file_extension": ".py",
   "mimetype": "text/x-python",
   "name": "python",
   "nbconvert_exporter": "python",
   "pygments_lexer": "ipython3",
   "version": "3.10.11"
  },
  "orig_nbformat": 4
 },
 "nbformat": 4,
 "nbformat_minor": 2
}
