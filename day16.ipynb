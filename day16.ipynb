{
 "cells": [
  {
   "cell_type": "code",
   "execution_count": 2,
   "metadata": {},
   "outputs": [],
   "source": [
    "import pandas as pd\n",
    "import cv2\n",
    "import face_recognition as fr"
   ]
  },
  {
   "cell_type": "code",
   "execution_count": 3,
   "metadata": {},
   "outputs": [
    {
     "name": "stdout",
     "output_type": "stream",
     "text": [
      "1\n"
     ]
    }
   ],
   "source": [
    "import cv2 \n",
    "import face_recognition as fr\n",
    "\n",
    "vid = cv2.VideoCapture(0)\n",
    "fd = cv2.CascadeClassifier(\n",
    "    cv2.data.haarcascades + 'haarcascade_frontalface_default.xml'\n",
    ")\n",
    "try:\n",
    "    face_db = pd.read_csv('faces_data.tsv',index_col=0, sep = '\\t')\n",
    "    data = {\n",
    "        'name': face_db['name'].values.tolist(),\n",
    "        'encoding': face_db['encoding'].values.tolist(),\n",
    "    }\n",
    "    \n",
    "except Exception as e:\n",
    "    print(e)\n",
    "    face_db = {'name':[], 'encoding':[]}\n",
    "\n",
    "names = data['name']\n",
    "enc = data['encoding']\n",
    "frameLimit = 1\n",
    "frameCount =0\n",
    "name = input(\"Enter your name: \")\n",
    "while True:\n",
    "    flag, img = vid.read()\n",
    "    if flag:\n",
    "        faces = fd.detectMultiScale(\n",
    "            cv2.cvtColor(img,cv2.COLOR_BGR2GRAY),\n",
    "            scaleFactor = 1.1,\n",
    "            minNeighbors =5,\n",
    "            minSize = (50,50)\n",
    "        )\n",
    "        if len(faces)==1:\n",
    "            x,y,w,h = faces[0]\n",
    "            img_face = img[y:y+h,x:x+w,:].copy()\n",
    "            img_face = cv2.resize(img_face,(400,400), \n",
    "                                  interpolation=cv2.INTER_CUBIC)\n",
    "            #cv2.imwrite(f'{name}_{frameCount}.png',img_face)\n",
    "            face_encoding = fr.face_encodings(img_face)\n",
    "            # print(face_encoding)\n",
    "            if len(face_encoding) == 1:\n",
    "                enc.append(face_encoding[0].tolist())\n",
    "                names.append(name)\n",
    "                frameCount  +=1\n",
    "                print(frameCount)\n",
    "                if frameCount == frameLimit:\n",
    "                    data = {'name':names, 'encoding':enc}\n",
    "                    pd.DataFrame(data).to_csv('faces_data.tsv',sep='\\t')\n",
    "                    break\n",
    "\n",
    "\n",
    "        cv2.imshow('preview',img)\n",
    "        key = cv2.waitKey(1)\n",
    "        if key == ord('q'):\n",
    "            break\n",
    "cv2.destroyAllWindows()\n",
    "vid.release()"
   ]
  },
  {
   "cell_type": "code",
   "execution_count": 4,
   "metadata": {},
   "outputs": [
    {
     "name": "stdout",
     "output_type": "stream",
     "text": [
      "Recognition will start..!!\n"
     ]
    },
    {
     "ename": "SyntaxError",
     "evalue": "invalid syntax. Perhaps you forgot a comma? (<string>, line 1)",
     "output_type": "error",
     "traceback": [
      "Traceback \u001b[1;36m(most recent call last)\u001b[0m:\n",
      "\u001b[0m  File \u001b[0;32m~\\AppData\\Roaming\\Python\\Python310\\site-packages\\IPython\\core\\interactiveshell.py:3508\u001b[0m in \u001b[0;35mrun_code\u001b[0m\n    exec(code_obj, self.user_global_ns, self.user_ns)\u001b[0m\n",
      "\u001b[1;36m  Cell \u001b[1;32mIn[4], line 42\u001b[1;36m\n\u001b[1;33m    face_encoding[0],eval(enc_value))\u001b[1;36m\n",
      "\u001b[1;36m  File \u001b[1;32m<string>:1\u001b[1;36m\u001b[0m\n\u001b[1;33m    [-9.68741328e-02  8.34693611e-02  2.86102444e-02 -9.99163613e-02\u001b[0m\n\u001b[1;37m     ^\u001b[0m\n\u001b[1;31mSyntaxError\u001b[0m\u001b[1;31m:\u001b[0m invalid syntax. Perhaps you forgot a comma?\n"
     ]
    },
    {
     "ename": "",
     "evalue": "",
     "output_type": "error",
     "traceback": [
      "\u001b[1;31mThe Kernel crashed while executing code in the the current cell or a previous cell. Please review the code in the cell(s) to identify a possible cause of the failure. Click <a href='https://aka.ms/vscodeJupyterKernelCrash'>here</a> for more info. View Jupyter <a href='command:jupyter.viewOutput'>log</a> for further details."
     ]
    }
   ],
   "source": [
    "import cv2 \n",
    "import pandas as pd\n",
    "import face_recognition as fr\n",
    "\n",
    "vid = cv2.VideoCapture(0)\n",
    "fd = cv2.CascadeClassifier(\n",
    "    cv2.data.haarcascades + 'haarcascade_frontalface_default.xml'\n",
    ")\n",
    "try:\n",
    "    face_db = pd.read_csv('faces_data.tsv',index_col=0, sep = '\\t')\n",
    "    data = {\n",
    "        'name': face_db['name'].values.tolist(),\n",
    "        'encoding': face_db['encoding'].values.tolist(),\n",
    "    }\n",
    "    \n",
    "except Exception as e:\n",
    "    print(e)\n",
    "    face_db = {'name':[], 'encoding':[]}\n",
    "\n",
    "\n",
    "while True:\n",
    "    flag, img = vid.read()\n",
    "    if flag:\n",
    "        faces = fd.detectMultiScale(\n",
    "            cv2.cvtColor(img,cv2.COLOR_BGR2GRAY),\n",
    "            scaleFactor = 1.1,\n",
    "            minNeighbors =5,\n",
    "            minSize = (50,50)\n",
    "        )\n",
    "        if len(faces)==1:\n",
    "            x,y,w,h = faces[0]\n",
    "            img_face = img[y:y+h,x:x+w,:].copy()\n",
    "            img_face = cv2.resize(img_face,(400,400), \n",
    "                                  interpolation=cv2.INTER_CUBIC)\n",
    "            #cv2.imwrite(f'{name}_{frameCount}.png',img_face)\n",
    "            face_encoding = fr.face_encodings(img_face)\n",
    "            # print(face_encoding)\n",
    "            if len(face_encoding) == 1:\n",
    "                print(\"Recognition will start..!!\")\n",
    "                for ind , enc_value in enumerate(data['encoding']):\n",
    "                    matched = fr.compare_faces(\n",
    "                        face_encoding[0],eval(enc_value))\n",
    "                    if matched:\n",
    "                        # print(data['name'][ind])\n",
    "                        cv2.putText(\n",
    "                            img,data['name'][ind],\n",
    "                            (50,50),cv2.FONT_HERSHEY_SIMPLEX,\n",
    "                            (0,0,255),8)\n",
    "                        break\n",
    "\n",
    "\n",
    "        cv2.imshow('preview',img)\n",
    "        key = cv2.waitKey(1)\n",
    "        if key == ord('q'):\n",
    "            break\n",
    "cv2.destroyAllWindows()\n",
    "vid.release()"
   ]
  },
  {
   "cell_type": "code",
   "execution_count": null,
   "metadata": {},
   "outputs": [],
   "source": []
  }
 ],
 "metadata": {
  "kernelspec": {
   "display_name": "Python 3",
   "language": "python",
   "name": "python3"
  },
  "language_info": {
   "codemirror_mode": {
    "name": "ipython",
    "version": 3
   },
   "file_extension": ".py",
   "mimetype": "text/x-python",
   "name": "python",
   "nbconvert_exporter": "python",
   "pygments_lexer": "ipython3",
   "version": "3.10.11"
  },
  "orig_nbformat": 4
 },
 "nbformat": 4,
 "nbformat_minor": 2
}
